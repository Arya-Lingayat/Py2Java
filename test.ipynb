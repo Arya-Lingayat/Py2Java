{
 "cells": [
  {
   "cell_type": "code",
   "execution_count": 10,
   "id": "c751ab42",
   "metadata": {},
   "outputs": [],
   "source": [
    "import os\n",
    "import io\n",
    "import sys\n",
    "from dotenv import load_dotenv\n",
    "import google.genai\n",
    "from IPython.display import Markdown,display,update_display\n",
    "import gradio as gr\n",
    "import subprocess"
   ]
  },
  {
   "cell_type": "code",
   "execution_count": 11,
   "id": "7b15f11e",
   "metadata": {},
   "outputs": [],
   "source": [
    "load_dotenv()\n",
    "GEMINI_API_KEY=os.getenv('GEMINI_API_KEY')"
   ]
  },
  {
   "cell_type": "code",
   "execution_count": 12,
   "id": "7289db68",
   "metadata": {},
   "outputs": [],
   "source": [
    "from google import genai\n",
    "client = genai.Client(api_key=GEMINI_API_KEY)"
   ]
  },
  {
   "cell_type": "code",
   "execution_count": 37,
   "id": "5131589c",
   "metadata": {},
   "outputs": [],
   "source": [
    "system_message = \"You are an assistant that reimplements Python code in high performance Java for an Windows 11 workstation.\\\n",
    "    Respond only with Java code; use-comments sparingly and do not provide any explanation or conclusion after the code  other than occasional comments.\\\n",
    "    the Java response needs to produce an identical output in the fastest possible time.\""
   ]
  },
  {
   "cell_type": "code",
   "execution_count": 38,
   "id": "961676ca",
   "metadata": {},
   "outputs": [],
   "source": [
    "def user_prompt_for(python):\n",
    "    user_prompt = \"Rewrite this Python code in a Java class named Main with the fastest possible implementation that produces identical output in the least\\\n",
    "    time.Respond only in Java code; do not explain your work other than a few comments.\"\n",
    "    user_prompt+=\"Pay attention to number types to ensure no int overflows. Remember to import all necessary Java packages such as java.util.*\"\n",
    "    user_prompt+=python\n",
    "    return user_prompt"
   ]
  },
  {
   "cell_type": "code",
   "execution_count": 15,
   "id": "74d3c3d3",
   "metadata": {},
   "outputs": [],
   "source": [
    "from google.genai.types import Content,Part\n",
    "def messages_for(python):\n",
    "    return [\n",
    "        Content(\n",
    "            role=\"user\",\n",
    "            parts=[Part(text=user_prompt_for(python))]\n",
    "        )\n",
    "    ]"
   ]
  },
  {
   "cell_type": "code",
   "execution_count": 16,
   "id": "1b5c75a2",
   "metadata": {},
   "outputs": [],
   "source": [
    "def messages_for_llama(python):\n",
    "    return[\n",
    "        {\"role\":\"system\",\"content\":system_message},\n",
    "        {\"role\":\"user\",\"content\":user_prompt_for(python)}\n",
    "    ]"
   ]
  },
  {
   "cell_type": "code",
   "execution_count": 40,
   "id": "9b53eef1",
   "metadata": {},
   "outputs": [],
   "source": [
    "##Writing optimized java code to a file\n",
    "\n",
    "def write_output(java):\n",
    "    code = java.replace(\"```java\",\"\").replace(\"```\",\"\")\n",
    "    cleaned = code[:code.rfind('}') + 1]\n",
    "    with open(\"Main.java\",'w') as f:\n",
    "        f.write(cleaned)"
   ]
  },
  {
   "cell_type": "code",
   "execution_count": 18,
   "id": "6f4ec3e4",
   "metadata": {},
   "outputs": [],
   "source": [
    "import ollama"
   ]
  },
  {
   "cell_type": "code",
   "execution_count": 19,
   "id": "ca062dd7",
   "metadata": {},
   "outputs": [],
   "source": [
    "# import ollama\n",
    "\n",
    "# def messages_for(python_code: str) -> str:\n",
    "#     return f\"Rewrite this Python code to be more efficient:\\n\\n{python_code}\"\n",
    "\n",
    "def optimize_llama(python):\n",
    "    \n",
    "    reply = \"\"\n",
    "\n",
    "    # Streaming response from Ollama\n",
    "    for chunk in ollama.chat(\n",
    "        model=\"llama3.2\",\n",
    "        messages=messages_for_llama(python),\n",
    "        stream=True\n",
    "    ):\n",
    "        print(chunk['message']['content'], end='', flush=True)\n",
    "        reply += chunk['message']['content']\n",
    "\n",
    "    write_output(reply)\n"
   ]
  },
  {
   "cell_type": "code",
   "execution_count": 20,
   "id": "b2bff82e",
   "metadata": {},
   "outputs": [],
   "source": [
    "from google.genai import types\n",
    "def optimize_gemini(python):\n",
    "    reply=\"\"\n",
    "    for chunk in client.models.generate_content_stream(\n",
    "        model=\"gemini-2.0-flash\",\n",
    "        contents=messages_for(python),\n",
    "        config=types.GenerateContentConfig(\n",
    "            system_instruction = system_message\n",
    "        )\n",
    "    ):\n",
    "        print(chunk.text,end='',flush=True)\n",
    "        reply+=chunk.text\n",
    "    write_output(reply)\n",
    "        "
   ]
  },
  {
   "cell_type": "code",
   "execution_count": 21,
   "id": "83983d1b",
   "metadata": {},
   "outputs": [],
   "source": [
    "pi=\"\"\"\n",
    "import time\n",
    "\n",
    "def calculate(iterations,param1,param2):\n",
    "    result = 1.0\n",
    "    for i in range(1, iterations+1):\n",
    "        j = i * param1 - param2\n",
    "        result -= (1/j)\n",
    "        j = i * param1 + param2\n",
    "        result += (1/j)\n",
    "    return result\n",
    "\n",
    "start_time = time.time()\n",
    "result = calculate(100_000_000,4,1) * 4\n",
    "end_time = time.time()\n",
    "\n",
    "print(f\"Result: {result : 12f}\")\n",
    "print(f\"Execute Time: {(end_time - start_time):.6f} seconds\")\n",
    "\n",
    "\n",
    "\"\"\""
   ]
  },
  {
   "cell_type": "code",
   "execution_count": 27,
   "id": "c19fc027",
   "metadata": {},
   "outputs": [
    {
     "name": "stdout",
     "output_type": "stream",
     "text": [
      "Result:     3.141593\n",
      "Execute Time: 13.504781 seconds\n"
     ]
    }
   ],
   "source": [
    "exec(pi)"
   ]
  },
  {
   "cell_type": "code",
   "execution_count": null,
   "id": "b5ad160e",
   "metadata": {},
   "outputs": [],
   "source": [
    "optimize_gemini(pi)"
   ]
  },
  {
   "cell_type": "code",
   "execution_count": null,
   "id": "85d4dff0",
   "metadata": {},
   "outputs": [],
   "source": [
    "optimize_llama(pi)"
   ]
  },
  {
   "cell_type": "code",
   "execution_count": null,
   "id": "9f5d0383",
   "metadata": {},
   "outputs": [],
   "source": []
  },
  {
   "cell_type": "code",
   "execution_count": 39,
   "id": "e18fe242",
   "metadata": {},
   "outputs": [
    {
     "name": "stdout",
     "output_type": "stream",
     "text": [
      "Total Maximum Subarray Sum (20 runs): 10980\n",
      "Execution Time: 67.706409 seconds\n"
     ]
    }
   ],
   "source": [
    "exec(python_hard)"
   ]
  },
  {
   "cell_type": "code",
   "execution_count": null,
   "id": "0f8dd28a",
   "metadata": {},
   "outputs": [],
   "source": [
    "optimize_gemini(python_hard)"
   ]
  },
  {
   "cell_type": "code",
   "execution_count": 23,
   "id": "2c062202",
   "metadata": {},
   "outputs": [],
   "source": [
    "from google.genai import types\n",
    "\n",
    "def stream_gemini(python_code):\n",
    "    reply = \"\"\n",
    "    for chunk in client.models.generate_content_stream(\n",
    "        model=\"gemini-2.0-flash\",\n",
    "        contents=messages_for(python_code),\n",
    "        config=types.GenerateContentConfig(\n",
    "            temperature=0.7,\n",
    "            system_instruction=system_message\n",
    "        )\n",
    "    ):\n",
    "        if chunk.text:\n",
    "            reply += chunk.text\n",
    "            yield reply.replace('```java\\n', '').replace('```', '')\n"
   ]
  },
  {
   "cell_type": "code",
   "execution_count": 24,
   "id": "5305b64b",
   "metadata": {},
   "outputs": [],
   "source": [
    "def stream_ollama(python_code):\n",
    "    reply = \"\"\n",
    "\n",
    "    for chunk in ollama.chat(\n",
    "        model=\"llama3.2\",\n",
    "        messages= messages_for_llama(python_code),\n",
    "        stream=True\n",
    "    ):\n",
    "         content = chunk['message']['content']\n",
    "         reply += content\n",
    "         yield reply.replace('```java\\n', '').replace('```', '')"
   ]
  },
  {
   "cell_type": "code",
   "execution_count": 25,
   "id": "1a0d1d20",
   "metadata": {},
   "outputs": [],
   "source": [
    "def optimize(python, model):\n",
    "    if model==\"Gemini\":\n",
    "        result = stream_gemini(python)\n",
    "    elif model==\"Llama\":\n",
    "        result = stream_gemini(python)\n",
    "    else:\n",
    "        raise ValueError(\"Unknown model\")\n",
    "    for stream_so_far in result:\n",
    "        yield stream_so_far  "
   ]
  },
  {
   "cell_type": "code",
   "execution_count": 60,
   "id": "59b8004f",
   "metadata": {},
   "outputs": [
    {
     "name": "stdout",
     "output_type": "stream",
     "text": [
      "* Running on local URL:  http://127.0.0.1:7867\n",
      "* To create a public link, set `share=True` in `launch()`.\n"
     ]
    },
    {
     "data": {
      "text/html": [
       "<div><iframe src=\"http://127.0.0.1:7867/\" width=\"100%\" height=\"500\" allow=\"autoplay; camera; microphone; clipboard-read; clipboard-write;\" frameborder=\"0\" allowfullscreen></iframe></div>"
      ],
      "text/plain": [
       "<IPython.core.display.HTML object>"
      ]
     },
     "metadata": {},
     "output_type": "display_data"
    },
    {
     "data": {
      "text/plain": []
     },
     "execution_count": 60,
     "metadata": {},
     "output_type": "execute_result"
    }
   ],
   "source": [
    "with gr.Blocks() as ui:\n",
    "    with gr.Row():\n",
    "        python = gr.Textbox(label=\"Python code:\",lines=10,elem_id=\"py-code-box\")\n",
    "        java = gr.Textbox(label=\"Java code:\",lines=10)\n",
    "    with gr.Row():\n",
    "        model = gr.Dropdown([\"Gemini\",\"Llama\"],label=\"Select model\",value=\"Gemini\",elem_id=\"java-code-box\")\n",
    "        convert = gr.Button(\"Convert code\")\n",
    "\n",
    "    convert.click(optimize,inputs=[python,model],outputs=[java])\n",
    "    \n",
    "    ui.load(\n",
    "        lambda: None,\n",
    "        js=\"\"\"\n",
    "        () => {\n",
    "            document.getElementById(\"py-code-box\").setAttribute(\"spellcheck\", \"false\");\n",
    "            document.getElementById(\"java-code-box\").setAttribute(\"spellcheck\", \"false\");\n",
    "        }\n",
    "        \"\"\"\n",
    "    )\n",
    "ui.launch(inbrowser=True)"
   ]
  },
  {
   "cell_type": "code",
   "execution_count": 26,
   "id": "1cacd305",
   "metadata": {},
   "outputs": [],
   "source": [
    "import textwrap\n",
    "def execute_python(code):\n",
    "    try:\n",
    "        code = textwrap.dedent(code)\n",
    "        output = io.StringIO()\n",
    "        sys.stdout = output\n",
    "        exec(code)\n",
    "    finally:\n",
    "        sys.stdout = sys.__stdout__\n",
    "    return output.getvalue()"
   ]
  },
  {
   "cell_type": "code",
   "execution_count": 27,
   "id": "2d0bff63",
   "metadata": {},
   "outputs": [],
   "source": [
    "\n",
    "def execute_java(code):\n",
    "    write_output(code)  # write the input code to Main.java\n",
    "    compile_cmd = [\"javac\", \"Main.java\"]\n",
    "    run_cmd = [\"java\", \"Main\"]\n",
    "\n",
    "    try:\n",
    "        # Compile the Java code\n",
    "        compile_result = subprocess.run(compile_cmd, check=True, text=True, capture_output=True)\n",
    "\n",
    "        # Run the compiled Java code\n",
    "        run_result = subprocess.run(run_cmd, check=True, text=True, capture_output=True)\n",
    "\n",
    "        return run_result.stdout\n",
    "\n",
    "    except subprocess.CalledProcessError as e:\n",
    "        return f\"An error occurred:\\n{e.stderr}\"\n"
   ]
  },
  {
   "cell_type": "code",
   "execution_count": 28,
   "id": "996beebe",
   "metadata": {},
   "outputs": [],
   "source": [
    "css = \"\"\"\n",
    ".python {\n",
    "  background-color: #1c2b3a; /* Darker shade of Python blue */\n",
    "}\n",
    "\n",
    ".java {\n",
    "  background-color: #002b00; /* Dark forest green for C++ */\n",
    "}\n",
    " \n",
    "\n",
    "\"\"\""
   ]
  },
  {
   "cell_type": "code",
   "execution_count": null,
   "id": "6498579a",
   "metadata": {},
   "outputs": [],
   "source": []
  },
  {
   "cell_type": "code",
   "execution_count": 71,
   "id": "eaa96218",
   "metadata": {},
   "outputs": [
    {
     "data": {
      "text/html": [
       "<div><iframe src=\"http://127.0.0.1:7872/\" width=\"100%\" height=\"500\" allow=\"autoplay; camera; microphone; clipboard-read; clipboard-write;\" frameborder=\"0\" allowfullscreen></iframe></div>"
      ],
      "text/plain": [
       "<IPython.core.display.HTML object>"
      ]
     },
     "metadata": {},
     "output_type": "display_data"
    },
    {
     "data": {
      "text/plain": []
     },
     "execution_count": 71,
     "metadata": {},
     "output_type": "execute_result"
    }
   ],
   "source": [
    "with gr.Blocks(css=css) as ui:\n",
    "    gr.Markdown(\"## Convert code from Python to Java\")\n",
    "    with gr.Row():\n",
    "        python = gr.Textbox(label=\"Python code:\", value=pi, lines=10,elem_id=\"py-code-box\")\n",
    "        java = gr.Textbox(label=\"Java code:\", lines=10,elem_id=\"java-code-box\")\n",
    "    with gr.Row():\n",
    "        model = gr.Dropdown([\"Gemini\", \"Llama\"], label=\"Select model\", value=\"Gemini\")\n",
    "    with gr.Row():\n",
    "        convert = gr.Button(\"Convert code\")\n",
    "    with gr.Row():\n",
    "        python_run = gr.Button(\"Run Python\")\n",
    "        java_run = gr.Button(\"Run Java\")\n",
    "    with gr.Row():\n",
    "        python_out = gr.TextArea(label=\"Python result:\", elem_classes=[\"python\"])\n",
    "        java_out = gr.TextArea(label=\"Java result:\", elem_classes=[\"java\"])\n",
    "\n",
    "    convert.click(optimize, inputs=[python, model], outputs=[java])\n",
    "    python_run.click(execute_python, inputs=[python], outputs=[python_out])\n",
    "    java_run.click(execute_java, inputs=[java], outputs=[java_out])\n",
    "    \n",
    "    ui.load(\n",
    "        lambda: None,\n",
    "        js=\"\"\"\n",
    "        () => {\n",
    "            document.getElementById(\"py-code-box\").setAttribute(\"spellcheck\", \"false\");\n",
    "            document.getElementById(\"java-code-box\").setAttribute(\"spellcheck\", \"false\");\n",
    "        }\n",
    "        \"\"\"\n",
    "    )\n",
    "ui.launch(inbrowser=True)"
   ]
  },
  {
   "cell_type": "code",
   "execution_count": 41,
   "id": "fc37b6d2",
   "metadata": {},
   "outputs": [],
   "source": [
    "# import ollama\n",
    "\n",
    "# def messages_for(python_code: str) -> str:\n",
    "#     return f\"Rewrite this Python code to be more efficient:\\n\\n{python_code}\"\n",
    "\n",
    "def optimize_qwen(python):\n",
    "    \n",
    "    reply = \"\"\n",
    "\n",
    "    # Streaming response from Ollama\n",
    "    for chunk in ollama.chat(\n",
    "        model=\"qwen2.5-coder:1.5b\",\n",
    "        messages=messages_for_llama(python),\n",
    "        stream=True\n",
    "    ):\n",
    "        print(chunk['message']['content'], end='', flush=True)\n",
    "        reply += chunk['message']['content']\n",
    "\n",
    "    write_output(reply)\n"
   ]
  },
  {
   "cell_type": "code",
   "execution_count": 42,
   "id": "2cdb2b9d",
   "metadata": {},
   "outputs": [
    {
     "name": "stdout",
     "output_type": "stream",
     "text": [
      "```java\n",
      "import java.util.stream.LongStream;\n",
      "\n",
      "public class Main {\n",
      "    public static void main(String[] args) {\n",
      "        long iterations = 100_000_000L;\n",
      "        double param1 = 4.0;\n",
      "        double param2 = 1.0;\n",
      "        long start = System.currentTimeMillis();\n",
      "        double result = calculate(iterations, param1, param2);\n",
      "        double end = System.currentTimeMillis();\n",
      "\n",
      "        System.out.printf(\"Result: %.12f\\n\", result);\n",
      "        System.out.printf(\"Execute Time: %7.6f seconds\\n\", (end - start) / 1000.0);\n",
      "    }\n",
      "\n",
      "    public static double calculate(long iterations, double param1, double param2) {\n",
      "        return LongStream.rangeClosed(1L, iterations)\n",
      "                         .mapToDouble(i -> {\n",
      "                             double j = i * param1 - param2;\n",
      "                             double result = -1 / j;\n",
      "                             j = i * param1 + param2;\n",
      "                             return 1 / j;\n",
      "                         }).average().getAsDouble();\n",
      "    }\n",
      "}\n",
      "```\n",
      "In this Java code, we've implemented the same logic as the original Python function `calculate` but with several improvements:\n",
      "- We've used `LongStream.rangeClosed` instead of a loop to efficiently handle large numbers of iterations.\n",
      "- The stream operation calculates the sum and average in parallel, which can significantly speed up the execution time for large inputs.\n",
      "- We've removed unnecessary type casting (`int -> double`) since the intermediate results are already of type `double`.\n",
      "- We've used `System.currentTimeMillis()` instead of `time.time()` to measure the execution time more accurately."
     ]
    }
   ],
   "source": [
    "optimize_qwen(pi)"
   ]
  },
  {
   "cell_type": "code",
   "execution_count": 44,
   "id": "0c52f85e",
   "metadata": {},
   "outputs": [
    {
     "name": "stdout",
     "output_type": "stream",
     "text": [
      "```java\n",
      "import java.util.Random;\n",
      "\n",
      "public class Main {\n",
      "    public static void main(String[] args) {\n",
      "        int n = 10000;\n",
      "        int initialSeed = 42;\n",
      "        int minVal = -10;\n",
      "        int maxVal = 10;\n",
      "        \n",
      "        long startTime = System.currentTimeMillis();\n",
      "        double result = totalMaxSubarraySum(n, initialSeed, minVal, maxVal);\n",
      "        long endTime = System.currentTimeMillis();\n",
      "        \n",
      "        System.out.println(\"Total Maximum Subarray Sum (20 runs): \" + result);\n",
      "        System.out.println(\"Execution Time: \" + ((endTime - startTime) / 1000.0) + \" seconds\");\n",
      "    }\n",
      "    \n",
      "    public static double totalMaxSubarraySum(int n, int initialSeed, int minVal, int maxVal) {\n",
      "        Random random = new Random(initialSeed);\n",
      "        long[] randomNumbers = new long[n];\n",
      "        \n",
      "        for (int i = 0; i < n; i++) {\n",
      "            randomNumbers[i] = random.nextInt(maxVal - minVal + 1) + minVal;\n",
      "        }\n",
      "        \n",
      "        double totalSum = 0.0;\n",
      "        int currentSum = 0;\n",
      "        \n",
      "        for (long number : randomNumbers) {\n",
      "            currentSum += number;\n",
      "            if (currentSum > totalSum) {\n",
      "                totalSum = currentSum;\n",
      "            }\n",
      "        }\n",
      "        \n",
      "        return totalSum;\n",
      "    }\n",
      "}\n",
      "```"
     ]
    }
   ],
   "source": [
    "optimize_qwen(python_hard)"
   ]
  },
  {
   "cell_type": "code",
   "execution_count": null,
   "id": "c9c9e4b2",
   "metadata": {},
   "outputs": [],
   "source": []
  }
 ],
 "metadata": {
  "kernelspec": {
   "display_name": "base",
   "language": "python",
   "name": "python3"
  },
  "language_info": {
   "codemirror_mode": {
    "name": "ipython",
    "version": 3
   },
   "file_extension": ".py",
   "mimetype": "text/x-python",
   "name": "python",
   "nbconvert_exporter": "python",
   "pygments_lexer": "ipython3",
   "version": "3.12.3"
  }
 },
 "nbformat": 4,
 "nbformat_minor": 5
}
